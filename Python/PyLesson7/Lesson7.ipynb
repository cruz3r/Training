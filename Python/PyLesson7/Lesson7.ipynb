{
 "cells": [
  {
   "cell_type": "code",
   "execution_count": 70,
   "id": "013e4a9d",
   "metadata": {},
   "outputs": [],
   "source": [
    "import os\n",
    "import time\n",
    "import random\n",
    "import numpy as np\n",
    "import pandas as pd\n",
    "import timeit\n",
    "import openpyxl\n",
    "import lxml\n",
    "import requests\n",
    "import matplotlib.pyplot as plt\n",
    "\n",
    "# Clear the screen\n",
    "def cls():\n",
    "    os.system('cls')\n",
    "\n",
    "cls()\n",
    "\n"
   ]
  },
  {
   "cell_type": "code",
   "execution_count": 60,
   "id": "d4ea59a2",
   "metadata": {},
   "outputs": [
    {
     "name": "stdout",
     "output_type": "stream",
     "text": [
      "11.2 µs ± 2.1 µs per loop (mean ± std. dev. of 10 runs, 1,000 loops each)\n",
      "42.5 µs ± 12.2 µs per loop (mean ± std. dev. of 10 runs, 1,000 loops each)\n"
     ]
    }
   ],
   "source": [
    "# Speed difference from the random module and numpy module\n",
    "%timeit -r10 -n1000 [np.random.randint(0, 100, 100)]\n",
    "%timeit -r10 -n1000 [random.sample(range(0, 100), 100)]\n",
    "\n",
    "#Because this is so fast we are running it 10 times and looping it 1000 times"
   ]
  },
  {
   "cell_type": "markdown",
   "id": "de70c421",
   "metadata": {},
   "source": [
    "Pandas Series and Dataframe\n",
    "Series is like a key value pair\n",
    "Dataframe is more like a dictionary "
   ]
  },
  {
   "cell_type": "code",
   "execution_count": 61,
   "id": "99a6b9ab",
   "metadata": {},
   "outputs": [
    {
     "name": "stdout",
     "output_type": "stream",
     "text": [
      "[11 66 56]\n",
      "<class 'numpy.ndarray'>\n",
      "<class 'pandas.core.series.Series'>\n",
      "first     11\n",
      "second    66\n",
      "third     56\n",
      "dtype: int32\n",
      "<class 'pandas.core.series.Series'>\n"
     ]
    }
   ],
   "source": [
    "# Series Object\n",
    "my_numpy_array = np.random.randint(0, 100, 3)\n",
    "print(my_numpy_array)\n",
    "print(type(my_numpy_array))\n",
    "\n",
    "my_series = pd.Series(my_numpy_array)\n",
    "my_series\n",
    "print(type(my_series))\n",
    "\n",
    "my_series2 = pd.Series(my_numpy_array, index=[\"first\",\"second\",\"third\"])\n",
    "print(my_series2)\n",
    "print(type(my_series2))"
   ]
  },
  {
   "cell_type": "code",
   "execution_count": 62,
   "id": "2b78ff06",
   "metadata": {},
   "outputs": [
    {
     "name": "stdout",
     "output_type": "stream",
     "text": [
      "          0         1\n",
      "0  0.673036  0.467376\n",
      "1  0.270254  0.521846\n",
      "2  0.618740  0.709441\n",
      "<class 'pandas.core.frame.DataFrame'>\n",
      "0    0.673036\n",
      "1    0.270254\n",
      "2    0.618740\n",
      "Name: 0, dtype: float64\n",
      "RangeIndex(start=0, stop=2, step=1)\n"
     ]
    },
    {
     "data": {
      "text/plain": [
       "0    0.467376\n",
       "1    0.521846\n",
       "2    0.709441\n",
       "Name: Colb, dtype: float64"
      ]
     },
     "execution_count": 62,
     "metadata": {},
     "output_type": "execute_result"
    }
   ],
   "source": [
    "# DataFrame Object\n",
    "array_2d = np.random.rand(3, 2)\n",
    "array_2d[0,1]\n",
    "df = pd.DataFrame(array_2d)\n",
    "print(df)\n",
    "print(type(df))\n",
    "print(df[0])\n",
    "print(df.columns)\n",
    "df.columns = [\"Cola\",\"Colb\"]\n",
    "df[\"Cola\"]\n",
    "df[\"Colb\"]\n"
   ]
  },
  {
   "cell_type": "markdown",
   "id": "6ac4365d",
   "metadata": {},
   "source": [
    "Using Pandas to read different file formats\n",
    "\n",
    "What are some of the common file formats we use?\n",
    "Text - CSV, JSON, HTML, etc.\n",
    "Binary - you have to know what your Binary Format is in order to map it out\n",
    "Relational DataBases - SQL, NoSql, etc.  \n"
   ]
  },
  {
   "cell_type": "code",
   "execution_count": 63,
   "id": "ed04c783",
   "metadata": {},
   "outputs": [
    {
     "name": "stdout",
     "output_type": "stream",
     "text": [
      "     Id            Name                                        CommandLine  \\\n",
      "0  4816  AggregatorHost                                 AggregatorHost.exe   \n",
      "1   804            Code  \"C:\\Users\\michael.cruz\\AppData\\Local\\Programs\\...   \n",
      "\n",
      "                                                Path  \\\n",
      "0             C:\\Windows\\System32\\AggregatorHost.exe   \n",
      "1  C:\\Users\\michael.cruz\\AppData\\Local\\Programs\\M...   \n",
      "\n",
      "                                 Parent             StartTime  \n",
      "0  System.Diagnostics.Process (svchost)  5/23/2023 9:55:29 AM  \n",
      "1     System.Diagnostics.Process (Code)  5/23/2023 9:58:09 AM  \n",
      "<class 'pandas.core.frame.DataFrame'>\n"
     ]
    }
   ],
   "source": [
    "# Importing a CSV into a Datafram Variable with Pandas\n",
    "my_csv = pd.read_csv(\"proc2.csv\", nrows= 2)\n",
    "print(my_csv)\n",
    "print(type(my_csv))"
   ]
  },
  {
   "cell_type": "code",
   "execution_count": 71,
   "id": "865df36f",
   "metadata": {},
   "outputs": [
    {
     "name": "stdout",
     "output_type": "stream",
     "text": [
      "                Name                                        CommandLine  \\\n",
      "Id                                                                        \n",
      "4816  AggregatorHost                                 AggregatorHost.exe   \n",
      "804             Code  \"C:\\Users\\michael.cruz\\AppData\\Local\\Programs\\...   \n",
      "3796         conhost            \\??\\C:\\Windows\\system32\\conhost.exe 0x4   \n",
      "576            csrss                                                NaN   \n",
      "3264          ctfmon                                       \"ctfmon.exe\"   \n",
      "\n",
      "                                                   Path  \\\n",
      "Id                                                        \n",
      "4816             C:\\Windows\\System32\\AggregatorHost.exe   \n",
      "804   C:\\Users\\michael.cruz\\AppData\\Local\\Programs\\M...   \n",
      "3796                    C:\\Windows\\system32\\conhost.exe   \n",
      "576                                                 NaN   \n",
      "3264                     C:\\Windows\\system32\\ctfmon.exe   \n",
      "\n",
      "                                      Parent             StartTime  \n",
      "Id                                                                  \n",
      "4816    System.Diagnostics.Process (svchost)  5/23/2023 9:55:29 AM  \n",
      "804        System.Diagnostics.Process (Code)  5/23/2023 9:58:09 AM  \n",
      "3796  System.Diagnostics.Process (pxp-agent)  5/23/2023 9:55:29 AM  \n",
      "576                                      NaN  5/23/2023 9:55:26 AM  \n",
      "3264    System.Diagnostics.Process (svchost)  5/23/2023 9:57:44 AM  \n",
      "<class 'pandas.core.frame.DataFrame'>\n"
     ]
    },
    {
     "ename": "TypeError",
     "evalue": "Image data of dtype object cannot be converted to float",
     "output_type": "error",
     "traceback": [
      "\u001b[1;31m---------------------------------------------------------------------------\u001b[0m",
      "\u001b[1;31mTypeError\u001b[0m                                 Traceback (most recent call last)",
      "Cell \u001b[1;32mIn[71], line 10\u001b[0m\n\u001b[0;32m      7\u001b[0m \u001b[39mprint\u001b[39m(my_csv2)\n\u001b[0;32m      8\u001b[0m \u001b[39mprint\u001b[39m(\u001b[39mtype\u001b[39m(my_csv2))\n\u001b[1;32m---> 10\u001b[0m plt\u001b[39m.\u001b[39;49mimshow(my_csv2)\n\u001b[0;32m     11\u001b[0m plt\u001b[39m.\u001b[39mshow()\n",
      "File \u001b[1;32mc:\\Users\\michael.cruz\\Documents\\repo\\powershell-training\\Lessons\\Python\\PyLesson7\\Lib\\site-packages\\matplotlib\\pyplot.py:2695\u001b[0m, in \u001b[0;36mimshow\u001b[1;34m(X, cmap, norm, aspect, interpolation, alpha, vmin, vmax, origin, extent, interpolation_stage, filternorm, filterrad, resample, url, data, **kwargs)\u001b[0m\n\u001b[0;32m   2689\u001b[0m \u001b[39m@_copy_docstring_and_deprecators\u001b[39m(Axes\u001b[39m.\u001b[39mimshow)\n\u001b[0;32m   2690\u001b[0m \u001b[39mdef\u001b[39;00m \u001b[39mimshow\u001b[39m(\n\u001b[0;32m   2691\u001b[0m         X, cmap\u001b[39m=\u001b[39m\u001b[39mNone\u001b[39;00m, norm\u001b[39m=\u001b[39m\u001b[39mNone\u001b[39;00m, \u001b[39m*\u001b[39m, aspect\u001b[39m=\u001b[39m\u001b[39mNone\u001b[39;00m, interpolation\u001b[39m=\u001b[39m\u001b[39mNone\u001b[39;00m,\n\u001b[0;32m   2692\u001b[0m         alpha\u001b[39m=\u001b[39m\u001b[39mNone\u001b[39;00m, vmin\u001b[39m=\u001b[39m\u001b[39mNone\u001b[39;00m, vmax\u001b[39m=\u001b[39m\u001b[39mNone\u001b[39;00m, origin\u001b[39m=\u001b[39m\u001b[39mNone\u001b[39;00m, extent\u001b[39m=\u001b[39m\u001b[39mNone\u001b[39;00m,\n\u001b[0;32m   2693\u001b[0m         interpolation_stage\u001b[39m=\u001b[39m\u001b[39mNone\u001b[39;00m, filternorm\u001b[39m=\u001b[39m\u001b[39mTrue\u001b[39;00m, filterrad\u001b[39m=\u001b[39m\u001b[39m4.0\u001b[39m,\n\u001b[0;32m   2694\u001b[0m         resample\u001b[39m=\u001b[39m\u001b[39mNone\u001b[39;00m, url\u001b[39m=\u001b[39m\u001b[39mNone\u001b[39;00m, data\u001b[39m=\u001b[39m\u001b[39mNone\u001b[39;00m, \u001b[39m*\u001b[39m\u001b[39m*\u001b[39mkwargs):\n\u001b[1;32m-> 2695\u001b[0m     __ret \u001b[39m=\u001b[39m gca()\u001b[39m.\u001b[39;49mimshow(\n\u001b[0;32m   2696\u001b[0m         X, cmap\u001b[39m=\u001b[39;49mcmap, norm\u001b[39m=\u001b[39;49mnorm, aspect\u001b[39m=\u001b[39;49maspect,\n\u001b[0;32m   2697\u001b[0m         interpolation\u001b[39m=\u001b[39;49minterpolation, alpha\u001b[39m=\u001b[39;49malpha, vmin\u001b[39m=\u001b[39;49mvmin,\n\u001b[0;32m   2698\u001b[0m         vmax\u001b[39m=\u001b[39;49mvmax, origin\u001b[39m=\u001b[39;49morigin, extent\u001b[39m=\u001b[39;49mextent,\n\u001b[0;32m   2699\u001b[0m         interpolation_stage\u001b[39m=\u001b[39;49minterpolation_stage,\n\u001b[0;32m   2700\u001b[0m         filternorm\u001b[39m=\u001b[39;49mfilternorm, filterrad\u001b[39m=\u001b[39;49mfilterrad, resample\u001b[39m=\u001b[39;49mresample,\n\u001b[0;32m   2701\u001b[0m         url\u001b[39m=\u001b[39;49murl, \u001b[39m*\u001b[39;49m\u001b[39m*\u001b[39;49m({\u001b[39m\"\u001b[39;49m\u001b[39mdata\u001b[39;49m\u001b[39m\"\u001b[39;49m: data} \u001b[39mif\u001b[39;49;00m data \u001b[39mis\u001b[39;49;00m \u001b[39mnot\u001b[39;49;00m \u001b[39mNone\u001b[39;49;00m \u001b[39melse\u001b[39;49;00m {}),\n\u001b[0;32m   2702\u001b[0m         \u001b[39m*\u001b[39;49m\u001b[39m*\u001b[39;49mkwargs)\n\u001b[0;32m   2703\u001b[0m     sci(__ret)\n\u001b[0;32m   2704\u001b[0m     \u001b[39mreturn\u001b[39;00m __ret\n",
      "File \u001b[1;32mc:\\Users\\michael.cruz\\Documents\\repo\\powershell-training\\Lessons\\Python\\PyLesson7\\Lib\\site-packages\\matplotlib\\__init__.py:1459\u001b[0m, in \u001b[0;36m_preprocess_data.<locals>.inner\u001b[1;34m(ax, data, *args, **kwargs)\u001b[0m\n\u001b[0;32m   1456\u001b[0m \u001b[39m@functools\u001b[39m\u001b[39m.\u001b[39mwraps(func)\n\u001b[0;32m   1457\u001b[0m \u001b[39mdef\u001b[39;00m \u001b[39minner\u001b[39m(ax, \u001b[39m*\u001b[39margs, data\u001b[39m=\u001b[39m\u001b[39mNone\u001b[39;00m, \u001b[39m*\u001b[39m\u001b[39m*\u001b[39mkwargs):\n\u001b[0;32m   1458\u001b[0m     \u001b[39mif\u001b[39;00m data \u001b[39mis\u001b[39;00m \u001b[39mNone\u001b[39;00m:\n\u001b[1;32m-> 1459\u001b[0m         \u001b[39mreturn\u001b[39;00m func(ax, \u001b[39m*\u001b[39;49m\u001b[39mmap\u001b[39;49m(sanitize_sequence, args), \u001b[39m*\u001b[39;49m\u001b[39m*\u001b[39;49mkwargs)\n\u001b[0;32m   1461\u001b[0m     bound \u001b[39m=\u001b[39m new_sig\u001b[39m.\u001b[39mbind(ax, \u001b[39m*\u001b[39margs, \u001b[39m*\u001b[39m\u001b[39m*\u001b[39mkwargs)\n\u001b[0;32m   1462\u001b[0m     auto_label \u001b[39m=\u001b[39m (bound\u001b[39m.\u001b[39marguments\u001b[39m.\u001b[39mget(label_namer)\n\u001b[0;32m   1463\u001b[0m                   \u001b[39mor\u001b[39;00m bound\u001b[39m.\u001b[39mkwargs\u001b[39m.\u001b[39mget(label_namer))\n",
      "File \u001b[1;32mc:\\Users\\michael.cruz\\Documents\\repo\\powershell-training\\Lessons\\Python\\PyLesson7\\Lib\\site-packages\\matplotlib\\axes\\_axes.py:5665\u001b[0m, in \u001b[0;36mAxes.imshow\u001b[1;34m(self, X, cmap, norm, aspect, interpolation, alpha, vmin, vmax, origin, extent, interpolation_stage, filternorm, filterrad, resample, url, **kwargs)\u001b[0m\n\u001b[0;32m   5657\u001b[0m \u001b[39mself\u001b[39m\u001b[39m.\u001b[39mset_aspect(aspect)\n\u001b[0;32m   5658\u001b[0m im \u001b[39m=\u001b[39m mimage\u001b[39m.\u001b[39mAxesImage(\u001b[39mself\u001b[39m, cmap\u001b[39m=\u001b[39mcmap, norm\u001b[39m=\u001b[39mnorm,\n\u001b[0;32m   5659\u001b[0m                       interpolation\u001b[39m=\u001b[39minterpolation, origin\u001b[39m=\u001b[39morigin,\n\u001b[0;32m   5660\u001b[0m                       extent\u001b[39m=\u001b[39mextent, filternorm\u001b[39m=\u001b[39mfilternorm,\n\u001b[0;32m   5661\u001b[0m                       filterrad\u001b[39m=\u001b[39mfilterrad, resample\u001b[39m=\u001b[39mresample,\n\u001b[0;32m   5662\u001b[0m                       interpolation_stage\u001b[39m=\u001b[39minterpolation_stage,\n\u001b[0;32m   5663\u001b[0m                       \u001b[39m*\u001b[39m\u001b[39m*\u001b[39mkwargs)\n\u001b[1;32m-> 5665\u001b[0m im\u001b[39m.\u001b[39;49mset_data(X)\n\u001b[0;32m   5666\u001b[0m im\u001b[39m.\u001b[39mset_alpha(alpha)\n\u001b[0;32m   5667\u001b[0m \u001b[39mif\u001b[39;00m im\u001b[39m.\u001b[39mget_clip_path() \u001b[39mis\u001b[39;00m \u001b[39mNone\u001b[39;00m:\n\u001b[0;32m   5668\u001b[0m     \u001b[39m# image does not already have clipping set, clip to axes patch\u001b[39;00m\n",
      "File \u001b[1;32mc:\\Users\\michael.cruz\\Documents\\repo\\powershell-training\\Lessons\\Python\\PyLesson7\\Lib\\site-packages\\matplotlib\\image.py:701\u001b[0m, in \u001b[0;36m_ImageBase.set_data\u001b[1;34m(self, A)\u001b[0m\n\u001b[0;32m    697\u001b[0m \u001b[39mself\u001b[39m\u001b[39m.\u001b[39m_A \u001b[39m=\u001b[39m cbook\u001b[39m.\u001b[39msafe_masked_invalid(A, copy\u001b[39m=\u001b[39m\u001b[39mTrue\u001b[39;00m)\n\u001b[0;32m    699\u001b[0m \u001b[39mif\u001b[39;00m (\u001b[39mself\u001b[39m\u001b[39m.\u001b[39m_A\u001b[39m.\u001b[39mdtype \u001b[39m!=\u001b[39m np\u001b[39m.\u001b[39muint8 \u001b[39mand\u001b[39;00m\n\u001b[0;32m    700\u001b[0m         \u001b[39mnot\u001b[39;00m np\u001b[39m.\u001b[39mcan_cast(\u001b[39mself\u001b[39m\u001b[39m.\u001b[39m_A\u001b[39m.\u001b[39mdtype, \u001b[39mfloat\u001b[39m, \u001b[39m\"\u001b[39m\u001b[39msame_kind\u001b[39m\u001b[39m\"\u001b[39m)):\n\u001b[1;32m--> 701\u001b[0m     \u001b[39mraise\u001b[39;00m \u001b[39mTypeError\u001b[39;00m(\u001b[39m\"\u001b[39m\u001b[39mImage data of dtype \u001b[39m\u001b[39m{}\u001b[39;00m\u001b[39m cannot be converted to \u001b[39m\u001b[39m\"\u001b[39m\n\u001b[0;32m    702\u001b[0m                     \u001b[39m\"\u001b[39m\u001b[39mfloat\u001b[39m\u001b[39m\"\u001b[39m\u001b[39m.\u001b[39mformat(\u001b[39mself\u001b[39m\u001b[39m.\u001b[39m_A\u001b[39m.\u001b[39mdtype))\n\u001b[0;32m    704\u001b[0m \u001b[39mif\u001b[39;00m \u001b[39mself\u001b[39m\u001b[39m.\u001b[39m_A\u001b[39m.\u001b[39mndim \u001b[39m==\u001b[39m \u001b[39m3\u001b[39m \u001b[39mand\u001b[39;00m \u001b[39mself\u001b[39m\u001b[39m.\u001b[39m_A\u001b[39m.\u001b[39mshape[\u001b[39m-\u001b[39m\u001b[39m1\u001b[39m] \u001b[39m==\u001b[39m \u001b[39m1\u001b[39m:\n\u001b[0;32m    705\u001b[0m     \u001b[39m# If just one dimension assume scalar and apply colormap\u001b[39;00m\n\u001b[0;32m    706\u001b[0m     \u001b[39mself\u001b[39m\u001b[39m.\u001b[39m_A \u001b[39m=\u001b[39m \u001b[39mself\u001b[39m\u001b[39m.\u001b[39m_A[:, :, \u001b[39m0\u001b[39m]\n",
      "\u001b[1;31mTypeError\u001b[0m: Image data of dtype object cannot be converted to float"
     ]
    },
    {
     "data": {
      "image/png": "[encoded data removed]",
      "text/plain": [
       "<Figure size 640x480 with 1 Axes>"
      ]
     },
     "metadata": {},
     "output_type": "display_data"
    }
   ],
   "source": [
    "# Here I am adding the index column from an existing unique id column. \n",
    "my_csv2 = pd.read_csv(\n",
    "    \"proc2.csv\", \n",
    "    nrows=5, \n",
    "    index_col=\"Id\"\n",
    "    )\n",
    "print(my_csv2)\n",
    "print(type(my_csv2))\n",
    "\n"
   ]
  },
  {
   "cell_type": "code",
   "execution_count": 65,
   "id": "b93df91e",
   "metadata": {},
   "outputs": [
    {
     "name": "stdout",
     "output_type": "stream",
     "text": [
      "<class 'pandas.core.frame.DataFrame'>\n",
      "Name                                           inetinfo\n",
      "CommandLine    C:\\Windows\\system32\\inetsrv\\inetinfo.exe\n",
      "Path           C:\\Windows\\system32\\inetsrv\\inetinfo.exe\n",
      "Parent            System.Diagnostics.Process (services)\n",
      "StartTime                          5/23/2023 9:55:29 AM\n",
      "Name: 3048, dtype: object\n",
      "----------------------------------------------------------------------------------------------------\n",
      "C:\\Windows\\system32\\inetsrv\\inetinfo.exe\n",
      "----------------------------------------------------------------------------------------------------\n",
      "Id\n",
      "4816     AggregatorHost\n",
      "804                Code\n",
      "3796            conhost\n",
      "576               csrss\n",
      "3264             ctfmon\n",
      "              ...      \n",
      "15108              w3wp\n",
      "712             wininit\n",
      "760            winlogon\n",
      "2576           WmiPrvSE\n",
      "13024          WUDFHost\n",
      "Name: Name, Length: 61, dtype: object\n",
      "----------------------------------------------------------------------------------------------------\n",
      "Id\n",
      "4816                AggregatorHost\n",
      "804                           Code\n",
      "3796                       conhost\n",
      "3264                        ctfmon\n",
      "12308                      dllhost\n",
      "1088                           dwm\n",
      "1008                   fontdrvhost\n",
      "2060     Graylog-collector-sidecar\n",
      "3048                      inetinfo\n",
      "1064                       LogonUI\n",
      "852                          lsass\n",
      "7832                           mmc\n",
      "4888                         msdtc\n",
      "5596                        msedge\n",
      "2280                     notepad++\n",
      "1988                nssm-pxp-agent\n",
      "6772                         nxlog\n",
      "4580                    powershell\n",
      "9096                          pwsh\n",
      "3688                     pxp-agent\n",
      "2192                        python\n",
      "1256                       rdpclip\n",
      "3056                          ruby\n",
      "2464                 RuntimeBroker\n",
      "1624                     SearchApp\n",
      "7600                 SearchIndexer\n",
      "6408                       SenseCE\n",
      "6484                      SenseNdr\n",
      "14040          ShellExperienceHost\n",
      "588                         sihost\n",
      "12172                  smartscreen\n",
      "2872                       spoolsv\n",
      "3280                     ssh-agent\n",
      "3236                          sshd\n",
      "3704       StartMenuExperienceHost\n",
      "692                        svchost\n",
      "1792                     taskhostw\n",
      "11748                      Taskmgr\n",
      "13944                 terraform-ls\n",
      "1872                 TextInputHost\n",
      "3592                 VGAuthService\n",
      "3604                   vm3dservice\n",
      "3524                      vmtoolsd\n",
      "15108                         w3wp\n",
      "2576                      WmiPrvSE\n",
      "13024                     WUDFHost\n",
      "Name: Name, dtype: object\n"
     ]
    }
   ],
   "source": [
    "# Read a Row .loc [*ID Number] or by the index_col [*\"Id\"]\n",
    "my_csv_rowindexcount = pd.read_csv(\n",
    "    \"proc2.csv\", \n",
    "    index_col=\"Id\",\n",
    "    )\n",
    "\n",
    "print(type(my_csv_rowindexcount))\n",
    "#my_csv_rowindexcount\n",
    "print(my_csv_rowindexcount.loc[3048]) # Shows a row with all columns\n",
    "print(\"-\" * 100 ) \n",
    "print(my_csv_rowindexcount.loc[3048].at['Path']) # Shows an individual cell using index and a col\n",
    "print(\"-\" * 100 ) \n",
    "print(my_csv_rowindexcount['Name']) \n",
    "print(\"-\" * 100 ) \n",
    "print(my_csv_rowindexcount.dropna()['Name']) "
   ]
  },
  {
   "cell_type": "code",
   "execution_count": 66,
   "id": "d4751684",
   "metadata": {},
   "outputs": [
    {
     "name": "stdout",
     "output_type": "stream",
     "text": [
      "DeviceName                     colo-ctx-dwl001.domain.com\n",
      "OSPlatform                               WindowsServer2012R2\n",
      "OSVersion                                     6.3.9600.20919\n",
      "OSArchitecture                                           x64\n",
      "SoftwareVendor                                     microsoft\n",
      "SoftwareName                          windows_server_2012_r2\n",
      "SoftwareVersion                               6.3.9600.20919\n",
      "CveId                                         CVE-2023-24941\n",
      "VulnerabilitySeverityLevel                          Critical\n",
      "RecommendedSecurityUpdate          May 2023 Security Updates\n",
      "RecommendedSecurityUpdateId                          5026415\n",
      "Name: 0, dtype: object\n"
     ]
    }
   ],
   "source": [
    "# Read Excel\n",
    "my_missingupd = pd.read_excel(\"file:/Temp/missing_updates.xlsx\", sheet_name=\"Raw\")\n",
    "print(my_missingupd.loc[0])\n",
    "\n",
    "# When can this be useful to you?"
   ]
  },
  {
   "cell_type": "code",
   "execution_count": null,
   "id": "69b14d41",
   "metadata": {},
   "outputs": [],
   "source": [
    "# Read HTML\n",
    "st = pd.read_html('https://simple.wikipedia.org/wiki/List_of_U.S._states')[0]\n",
    "print(type(st))\n",
    "\n",
    "sttaxrates =pd.read_html('https://taxfoundation.org/2023-sales-taxes/')[0]\n",
    "print(sttaxrates.columns)\n",
    "print(sttaxrates.State.count())\n",
    "print(sttaxrates[sttaxrates['State'] == 'Texas'])\n",
    "print(sttaxrates.iloc[0])\n",
    "print(sttaxrates.iloc[-1])"
   ]
  },
  {
   "cell_type": "code",
   "execution_count": 72,
   "id": "168c5cfd",
   "metadata": {},
   "outputs": [
    {
     "data": {
      "image/png": "[encoded data removed]",
      "text/plain": [
       "<Figure size 640x480 with 1 Axes>"
      ]
     },
     "metadata": {},
     "output_type": "display_data"
    }
   ],
   "source": [
    "x = np.arange(1,11) \n",
    "y = 2 * x + 5 \n",
    "plt.title(\"Matplotlib demo\") \n",
    "plt.xlabel(\"x axis caption\") \n",
    "plt.ylabel(\"y axis caption\") \n",
    "plt.plot(x,y) \n",
    "plt.show()"
   ]
  }
 ],
 "metadata": {
  "kernelspec": {
   "display_name": "Python 3.11.2 ('PyLesson7': venv)",
   "language": "python",
   "name": "python3"
  },
  "language_info": {
   "codemirror_mode": {
    "name": "ipython",
    "version": 3
   },
   "file_extension": ".py",
   "mimetype": "text/x-python",
   "name": "python",
   "nbconvert_exporter": "python",
   "pygments_lexer": "ipython3",
   "version": "3.11.2"
  },
  "vscode": {
   "interpreter": {
    "hash": "7cba31cc8841bf9a92134e8f9b5d4a4d73e6070e8d818462eef446d820f8a353"
   }
  }
 },
 "nbformat": 4,
 "nbformat_minor": 5
}
